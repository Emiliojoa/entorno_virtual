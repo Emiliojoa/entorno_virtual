{
 "cells": [
  {
   "cell_type": "code",
   "execution_count": 6,
   "metadata": {},
   "outputs": [
    {
     "data": {
      "text/html": [
       "<pre style=\"white-space:pre;overflow-x:auto;line-height:normal;font-family:Menlo,'DejaVu Sans Mono',consolas,'Courier New',monospace\"><span style=\"color: #800000; text-decoration-color: #800000\">Hello, World!</span>\n",
       "</pre>\n"
      ],
      "text/plain": [
       "\u001b[31mHello, World!\u001b[0m\n"
      ]
     },
     "metadata": {},
     "output_type": "display_data"
    },
    {
     "data": {
      "text/html": [
       "<pre style=\"white-space:pre;overflow-x:auto;line-height:normal;font-family:Menlo,'DejaVu Sans Mono',consolas,'Courier New',monospace\"><span style=\"color: #000080; text-decoration-color: #000080; font-weight: bold\">que se yo ando probando nomas </span>\n",
       "</pre>\n"
      ],
      "text/plain": [
       "\u001b[1;34mque se yo ando probando nomas \u001b[0m\n"
      ]
     },
     "metadata": {},
     "output_type": "display_data"
    }
   ],
   "source": [
    "from rich.console import Console\n",
    "\n",
    "console=Console()\n",
    "console.print(\"[red]Hello, World![/red]\")\n",
    "console.print(\"[bold blue]que se yo ando probando nomas [/bold blue]\")\n"
   ]
  },
  {
   "cell_type": "code",
   "execution_count": null,
   "metadata": {
    "vscode": {
     "languageId": "javascript"
    }
   },
   "outputs": [],
   "source": [
    "console=Console()\n",
    "console.print(\"[green]Hello, World![/green]\")\n",
    "console.print(\"[bold blue]que se yo ando probando nomas [/bold blue]\")\n",
    "console.print(\"[green]Hello, World![/green]\")\n",
    "console.print(\"[bold blue]que se yo ando probando nomas [/bold blue]\")\n",
    "console.print(\"[green]Hello, World![/green]\")\n",
    "console.print(\"[bold blue]que se yo ando probando nomas [/bold blue]\")\n",
    "console.print(\"[green]Hello, World![/green]\")\n",
    "console.print(\"[bold blue]que se yo ando probando nomas [/bold blue]\")\n",
    "console.print(\"[green]Hello, World![/green]\")\n",
    "console.print(\"[bold blue]que se yo ando probando nomas [/bold blue]\")\n",
    "\n",
    "console.print(\"[green]Hello, World![/green]\")\n",
    "console.print(\"[bold blue]que se yo ando probando nomas [/bold blue]\")"
   ]
  }
 ],
 "metadata": {
  "kernelspec": {
   "display_name": "env",
   "language": "python",
   "name": "python3"
  },
  "language_info": {
   "codemirror_mode": {
    "name": "ipython",
    "version": 3
   },
   "file_extension": ".py",
   "mimetype": "text/x-python",
   "name": "python",
   "nbconvert_exporter": "python",
   "pygments_lexer": "ipython3",
   "version": "3.12.9"
  }
 },
 "nbformat": 4,
 "nbformat_minor": 2
}
